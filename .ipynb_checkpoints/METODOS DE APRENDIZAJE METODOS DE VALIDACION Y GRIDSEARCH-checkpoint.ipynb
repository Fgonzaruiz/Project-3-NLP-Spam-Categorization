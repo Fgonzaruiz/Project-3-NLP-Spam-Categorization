{
 "cells": [
  {
   "cell_type": "code",
   "execution_count": 21,
   "id": "e7d42505",
   "metadata": {},
   "outputs": [
    {
     "name": "stderr",
     "output_type": "stream",
     "text": [
      "[nltk_data] Downloading package stopwords to\n",
      "[nltk_data]     C:\\Users\\Fgonz\\AppData\\Roaming\\nltk_data...\n",
      "[nltk_data]   Package stopwords is already up-to-date!\n",
      "[nltk_data] Downloading package punkt to\n",
      "[nltk_data]     C:\\Users\\Fgonz\\AppData\\Roaming\\nltk_data...\n",
      "[nltk_data]   Package punkt is already up-to-date!\n"
     ]
    }
   ],
   "source": [
    "import pandas as pd\n",
    "import matplotlib.pyplot as plt\n",
    "import seaborn as sns\n",
    "import nltk\n",
    "from nltk.corpus import stopwords\n",
    "from nltk.tokenize import word_tokenize\n",
    "from nltk.probability import FreqDist\n",
    "from wordcloud import WordCloud\n",
    "import nltk\n",
    "nltk.download('stopwords')\n",
    "import nltk\n",
    "nltk.download('punkt')\n",
    "import numpy as np \n",
    "from sklearn.feature_extraction.text import TfidfVectorizer\n",
    "from sklearn.linear_model import LogisticRegression\n",
    "from sklearn.model_selection import train_test_split\n",
    "from sklearn.naive_bayes import GaussianNB\n",
    "\n",
    "\n",
    "# Metricas\n",
    "from sklearn.metrics import jaccard_score\n",
    "from sklearn.metrics import accuracy_score\n",
    "from sklearn.metrics import precision_score\n",
    "from sklearn.metrics import recall_score\n",
    "from sklearn.metrics import f1_score\n",
    "from sklearn.metrics import roc_auc_score\n",
    "from sklearn.metrics import confusion_matrix\n",
    "from sklearn.metrics import classification_report\n",
    "\n",
    "from sklearn.feature_extraction.text import TfidfVectorizer\n",
    "from sklearn.linear_model import LogisticRegression\n",
    "from sklearn.model_selection import train_test_split\n",
    "from sklearn.metrics import jaccard_score, accuracy_score, precision_score, recall_score, f1_score, roc_auc_score\n",
    "\n",
    "from sklearn.naive_bayes import GaussianNB\n",
    "from sklearn.metrics import jaccard_score, accuracy_score, precision_score, recall_score, f1_score, roc_auc_score\n",
    "from sklearn.feature_extraction.text import TfidfVectorizer\n",
    "from sklearn.model_selection import train_test_split\n",
    "\n",
    "from sklearn.tree import DecisionTreeClassifier\n",
    "from sklearn.metrics import precision_score, recall_score, jaccard_score, accuracy_score, f1_score, roc_auc_score\n",
    "from sklearn.model_selection import train_test_split\n",
    "from sklearn.feature_extraction.text import TfidfVectorizer\n",
    "from sklearn.ensemble import RandomForestClassifier\n",
    "from sklearn.metrics import accuracy_score, jaccard_score, precision_score, recall_score, f1_score, roc_auc_score\n",
    "from sklearn.model_selection import train_test_split\n",
    "from sklearn.feature_extraction.text import TfidfVectorizer\n",
    "from sklearn.model_selection import GridSearchCV\n",
    "from sklearn.ensemble import RandomForestClassifier\n",
    "\n",
    "from sklearn.ensemble import RandomForestClassifier, AdaBoostClassifier, GradientBoostingClassifier\n",
    "from sklearn.metrics import accuracy_score, jaccard_score, precision_score, recall_score, f1_score, roc_auc_score\n",
    "from sklearn.model_selection import train_test_split\n",
    "from sklearn.feature_extraction.text import TfidfVectorizer\n",
    "from imblearn.over_sampling import SMOTE \n",
    "import pickle\n",
    "\n",
    "from sklearn.svm import SVC\n",
    "from sklearn.metrics import classification_report, confusion_matrix, jaccard_score, accuracy_score, precision_score, recall_score, f1_score, roc_auc_score"
   ]
  },
  {
   "cell_type": "code",
   "execution_count": 3,
   "id": "dce8ae09",
   "metadata": {},
   "outputs": [],
   "source": [
    "df = pd.read_csv('processed_emails.csv')\n"
   ]
  },
  {
   "cell_type": "code",
   "execution_count": 4,
   "id": "8166dc2f",
   "metadata": {},
   "outputs": [
    {
     "data": {
      "text/html": [
       "<div>\n",
       "<style scoped>\n",
       "    .dataframe tbody tr th:only-of-type {\n",
       "        vertical-align: middle;\n",
       "    }\n",
       "\n",
       "    .dataframe tbody tr th {\n",
       "        vertical-align: top;\n",
       "    }\n",
       "\n",
       "    .dataframe thead th {\n",
       "        text-align: right;\n",
       "    }\n",
       "</style>\n",
       "<table border=\"1\" class=\"dataframe\">\n",
       "  <thead>\n",
       "    <tr style=\"text-align: right;\">\n",
       "      <th></th>\n",
       "      <th>text</th>\n",
       "      <th>spam</th>\n",
       "      <th>email_length</th>\n",
       "      <th>text_prepr</th>\n",
       "    </tr>\n",
       "  </thead>\n",
       "  <tbody>\n",
       "    <tr>\n",
       "      <th>0</th>\n",
       "      <td>Subject: naturally irresistible your corporate...</td>\n",
       "      <td>1</td>\n",
       "      <td>1484</td>\n",
       "      <td>subject naturally irresistible corporate ident...</td>\n",
       "    </tr>\n",
       "    <tr>\n",
       "      <th>1</th>\n",
       "      <td>Subject: the stock trading gunslinger  fanny i...</td>\n",
       "      <td>1</td>\n",
       "      <td>598</td>\n",
       "      <td>subject stock trading gunslinger fanny merrill...</td>\n",
       "    </tr>\n",
       "    <tr>\n",
       "      <th>2</th>\n",
       "      <td>Subject: unbelievable new homes made easy  im ...</td>\n",
       "      <td>1</td>\n",
       "      <td>448</td>\n",
       "      <td>subject unbelievable new homes made easy im wa...</td>\n",
       "    </tr>\n",
       "    <tr>\n",
       "      <th>3</th>\n",
       "      <td>Subject: 4 color printing special  request add...</td>\n",
       "      <td>1</td>\n",
       "      <td>500</td>\n",
       "      <td>subject color printing special request additio...</td>\n",
       "    </tr>\n",
       "    <tr>\n",
       "      <th>4</th>\n",
       "      <td>Subject: do not have money , get software cds ...</td>\n",
       "      <td>1</td>\n",
       "      <td>235</td>\n",
       "      <td>subject money get software cds software compat...</td>\n",
       "    </tr>\n",
       "  </tbody>\n",
       "</table>\n",
       "</div>"
      ],
      "text/plain": [
       "                                                text  spam  email_length  \\\n",
       "0  Subject: naturally irresistible your corporate...     1          1484   \n",
       "1  Subject: the stock trading gunslinger  fanny i...     1           598   \n",
       "2  Subject: unbelievable new homes made easy  im ...     1           448   \n",
       "3  Subject: 4 color printing special  request add...     1           500   \n",
       "4  Subject: do not have money , get software cds ...     1           235   \n",
       "\n",
       "                                          text_prepr  \n",
       "0  subject naturally irresistible corporate ident...  \n",
       "1  subject stock trading gunslinger fanny merrill...  \n",
       "2  subject unbelievable new homes made easy im wa...  \n",
       "3  subject color printing special request additio...  \n",
       "4  subject money get software cds software compat...  "
      ]
     },
     "execution_count": 4,
     "metadata": {},
     "output_type": "execute_result"
    }
   ],
   "source": [
    "df.head(5)"
   ]
  },
  {
   "cell_type": "code",
   "execution_count": 5,
   "id": "d91025e0",
   "metadata": {},
   "outputs": [],
   "source": [
    "df['text_prepr'].fillna('', inplace=True)"
   ]
  },
  {
   "cell_type": "code",
   "execution_count": 6,
   "id": "b9f44bae",
   "metadata": {},
   "outputs": [
    {
     "data": {
      "text/plain": [
       "(11300, 4)"
      ]
     },
     "execution_count": 6,
     "metadata": {},
     "output_type": "execute_result"
    }
   ],
   "source": [
    "df.shape"
   ]
  },
  {
   "cell_type": "markdown",
   "id": "d44497ce",
   "metadata": {},
   "source": [
    "# MÉTODOS Y SMOTE"
   ]
  },
  {
   "cell_type": "code",
   "execution_count": 7,
   "id": "4d057b00",
   "metadata": {},
   "outputs": [
    {
     "name": "stdout",
     "output_type": "stream",
     "text": [
      "Train Shape: (9040, 36489)\n",
      "Test Shape: (2260, 36489)\n"
     ]
    }
   ],
   "source": [
    "vectorizer = TfidfVectorizer()\n",
    "filename = 'vectorizer.pkl'\n",
    "    with open(filename, 'wb') as file:\n",
    "        pickle.dump(vectorizer, file)\n",
    "X = vectorizer.fit_transform(df['text_prepr'])\n",
    "y = df['spam']\n",
    "X_train, X_test, y_train, y_test = train_test_split(X, y, test_size=0.2, random_state = 42, stratify = y)\n",
    "\n",
    "print(f\"Train Shape: {X_train.shape}\")\n",
    "print(f\"Test Shape: {X_test.shape}\")"
   ]
  },
  {
   "cell_type": "code",
   "execution_count": null,
   "id": "3b4c1f52",
   "metadata": {},
   "outputs": [],
   "source": []
  },
  {
   "cell_type": "code",
   "execution_count": 8,
   "id": "bbcd6a5f",
   "metadata": {},
   "outputs": [],
   "source": [
    "def modelos(X_train, y_train, X_test, y_test):\n",
    "    modelos = [LogisticRegression(), RandomForestClassifier(),\n",
    "               AdaBoostClassifier(), GradientBoostingClassifier(), SVC(kernel = \"linear\"), DecisionTreeClassifier()]\n",
    "\n",
    "    data = list()\n",
    "\n",
    "    for model in modelos:\n",
    "\n",
    "        print(str(model))\n",
    "\n",
    "        model.fit(X_train, y_train)\n",
    "        yhat = model.predict(X_test)\n",
    "\n",
    "        jac = jaccard_score(y_test, yhat, average = \"macro\")\n",
    "        acc = accuracy_score(y_test, yhat)\n",
    "        pre = precision_score(y_test, yhat, average = \"macro\")\n",
    "        rec = recall_score(y_test, yhat, average = \"macro\")\n",
    "        f1_ = f1_score(y_test, yhat, average = \"macro\")\n",
    "        roc = roc_auc_score(y_test, yhat)\n",
    "        con = confusion_matrix(y_test, yhat)\n",
    "\n",
    "        data.append([str(model), jac, acc, pre, rec, f1_, roc, con, model])\n",
    "\n",
    "    df_metricas = pd.DataFrame(data = data,\n",
    "                               columns = [\"name\", \"jaccard\", \"accuracy\", \"precision\", \"recall\", \"f1\", \"roc_auc\", \"cm\", \"model\"])\n",
    "    return df_metricas"
   ]
  },
  {
   "cell_type": "code",
   "execution_count": 13,
   "id": "877b3a2b",
   "metadata": {},
   "outputs": [
    {
     "name": "stdout",
     "output_type": "stream",
     "text": [
      "LogisticRegression()\n",
      "RandomForestClassifier()\n",
      "AdaBoostClassifier()\n",
      "GradientBoostingClassifier()\n",
      "SVC(kernel='linear')\n",
      "DecisionTreeClassifier()\n"
     ]
    }
   ],
   "source": [
    "from imblearn.over_sampling import SMOTE \n",
    "\n",
    "oversampling = SMOTE()\n",
    "X_balanceado, y_balanceado = oversampling.fit_resample(X, y) # Se obtienen nuevos X e y balanceados\n",
    "\n",
    "X_train, X_test, y_train, y_test = train_test_split(X_balanceado, y_balanceado, test_size = 0.3, random_state = 0)\n",
    "\n",
    "df_metricas = modelos(X_train, y_train, X_test, y_test)\n"
   ]
  },
  {
   "cell_type": "code",
   "execution_count": 14,
   "id": "2aa354cc",
   "metadata": {},
   "outputs": [
    {
     "data": {
      "text/html": [
       "<div>\n",
       "<style scoped>\n",
       "    .dataframe tbody tr th:only-of-type {\n",
       "        vertical-align: middle;\n",
       "    }\n",
       "\n",
       "    .dataframe tbody tr th {\n",
       "        vertical-align: top;\n",
       "    }\n",
       "\n",
       "    .dataframe thead th {\n",
       "        text-align: right;\n",
       "    }\n",
       "</style>\n",
       "<table border=\"1\" class=\"dataframe\">\n",
       "  <thead>\n",
       "    <tr style=\"text-align: right;\">\n",
       "      <th></th>\n",
       "      <th>name</th>\n",
       "      <th>jaccard</th>\n",
       "      <th>accuracy</th>\n",
       "      <th>precision</th>\n",
       "      <th>recall</th>\n",
       "      <th>f1</th>\n",
       "      <th>roc_auc</th>\n",
       "      <th>cm</th>\n",
       "      <th>model</th>\n",
       "    </tr>\n",
       "  </thead>\n",
       "  <tbody>\n",
       "    <tr>\n",
       "      <th>1</th>\n",
       "      <td>RandomForestClassifier()</td>\n",
       "      <td>0.977749</td>\n",
       "      <td>0.988750</td>\n",
       "      <td>0.988809</td>\n",
       "      <td>0.988757</td>\n",
       "      <td>0.988750</td>\n",
       "      <td>0.988757</td>\n",
       "      <td>[[2737, 15], [47, 2712]]</td>\n",
       "      <td>(DecisionTreeClassifier(max_features='auto', r...</td>\n",
       "    </tr>\n",
       "    <tr>\n",
       "      <th>4</th>\n",
       "      <td>SVC(kernel='linear')</td>\n",
       "      <td>0.955294</td>\n",
       "      <td>0.977137</td>\n",
       "      <td>0.977202</td>\n",
       "      <td>0.977144</td>\n",
       "      <td>0.977136</td>\n",
       "      <td>0.977144</td>\n",
       "      <td>[[2706, 46], [80, 2679]]</td>\n",
       "      <td>SVC(kernel='linear')</td>\n",
       "    </tr>\n",
       "    <tr>\n",
       "      <th>5</th>\n",
       "      <td>DecisionTreeClassifier()</td>\n",
       "      <td>0.953559</td>\n",
       "      <td>0.976229</td>\n",
       "      <td>0.976366</td>\n",
       "      <td>0.976219</td>\n",
       "      <td>0.976227</td>\n",
       "      <td>0.976219</td>\n",
       "      <td>[[2664, 88], [43, 2716]]</td>\n",
       "      <td>DecisionTreeClassifier()</td>\n",
       "    </tr>\n",
       "    <tr>\n",
       "      <th>0</th>\n",
       "      <td>LogisticRegression()</td>\n",
       "      <td>0.938101</td>\n",
       "      <td>0.968064</td>\n",
       "      <td>0.968196</td>\n",
       "      <td>0.968075</td>\n",
       "      <td>0.968062</td>\n",
       "      <td>0.968075</td>\n",
       "      <td>[[2688, 64], [112, 2647]]</td>\n",
       "      <td>LogisticRegression()</td>\n",
       "    </tr>\n",
       "    <tr>\n",
       "      <th>3</th>\n",
       "      <td>GradientBoostingClassifier()</td>\n",
       "      <td>0.903279</td>\n",
       "      <td>0.949193</td>\n",
       "      <td>0.949530</td>\n",
       "      <td>0.949175</td>\n",
       "      <td>0.949182</td>\n",
       "      <td>0.949175</td>\n",
       "      <td>[[2575, 177], [103, 2656]]</td>\n",
       "      <td>([DecisionTreeRegressor(criterion='friedman_ms...</td>\n",
       "    </tr>\n",
       "    <tr>\n",
       "      <th>2</th>\n",
       "      <td>AdaBoostClassifier()</td>\n",
       "      <td>0.899362</td>\n",
       "      <td>0.947015</td>\n",
       "      <td>0.947024</td>\n",
       "      <td>0.947018</td>\n",
       "      <td>0.947015</td>\n",
       "      <td>0.947018</td>\n",
       "      <td>[[2613, 139], [153, 2606]]</td>\n",
       "      <td>(DecisionTreeClassifier(max_depth=1, random_st...</td>\n",
       "    </tr>\n",
       "  </tbody>\n",
       "</table>\n",
       "</div>"
      ],
      "text/plain": [
       "                           name   jaccard  accuracy  precision    recall  \\\n",
       "1      RandomForestClassifier()  0.977749  0.988750   0.988809  0.988757   \n",
       "4          SVC(kernel='linear')  0.955294  0.977137   0.977202  0.977144   \n",
       "5      DecisionTreeClassifier()  0.953559  0.976229   0.976366  0.976219   \n",
       "0          LogisticRegression()  0.938101  0.968064   0.968196  0.968075   \n",
       "3  GradientBoostingClassifier()  0.903279  0.949193   0.949530  0.949175   \n",
       "2          AdaBoostClassifier()  0.899362  0.947015   0.947024  0.947018   \n",
       "\n",
       "         f1   roc_auc                          cm  \\\n",
       "1  0.988750  0.988757    [[2737, 15], [47, 2712]]   \n",
       "4  0.977136  0.977144    [[2706, 46], [80, 2679]]   \n",
       "5  0.976227  0.976219    [[2664, 88], [43, 2716]]   \n",
       "0  0.968062  0.968075   [[2688, 64], [112, 2647]]   \n",
       "3  0.949182  0.949175  [[2575, 177], [103, 2656]]   \n",
       "2  0.947015  0.947018  [[2613, 139], [153, 2606]]   \n",
       "\n",
       "                                               model  \n",
       "1  (DecisionTreeClassifier(max_features='auto', r...  \n",
       "4                               SVC(kernel='linear')  \n",
       "5                           DecisionTreeClassifier()  \n",
       "0                               LogisticRegression()  \n",
       "3  ([DecisionTreeRegressor(criterion='friedman_ms...  \n",
       "2  (DecisionTreeClassifier(max_depth=1, random_st...  "
      ]
     },
     "execution_count": 14,
     "metadata": {},
     "output_type": "execute_result"
    }
   ],
   "source": [
    "df_metricas.sort_values(by='roc_auc', ascending=False)"
   ]
  },
  {
   "cell_type": "code",
   "execution_count": 15,
   "id": "aaf708eb",
   "metadata": {},
   "outputs": [
    {
     "name": "stdout",
     "output_type": "stream",
     "text": [
      "Train Shape: (12859, 36489)\n",
      "Test Shape: (5511, 36489)\n"
     ]
    }
   ],
   "source": [
    "print(f\"Train Shape: {X_train.shape}\")\n",
    "print(f\"Test Shape: {X_test.shape}\")"
   ]
  },
  {
   "cell_type": "markdown",
   "id": "58272535",
   "metadata": {},
   "source": [
    "# Random Forest"
   ]
  },
  {
   "cell_type": "markdown",
   "id": "4196b3b3",
   "metadata": {},
   "source": [
    "# GridSearch"
   ]
  },
  {
   "cell_type": "code",
   "execution_count": 41,
   "id": "fbd6727e",
   "metadata": {},
   "outputs": [
    {
     "name": "stdout",
     "output_type": "stream",
     "text": [
      "Mejores parámetros encontrados:  {'max_depth': None, 'min_samples_leaf': 1, 'min_samples_split': 2, 'n_estimators': 500}\n",
      "Mejor puntuación en la validación cruzada:  0.9876349920424788\n"
     ]
    }
   ],
   "source": [
    "from sklearn.model_selection import GridSearchCV\n",
    "from sklearn.ensemble import RandomForestClassifier\n",
    "\n",
    "param_grid = {\n",
    "    'n_estimators': [100, 200, 500],\n",
    "    'max_depth': [ None, 5, 10, 20],\n",
    "    'min_samples_split': [2, 5, 10],\n",
    "    'min_samples_leaf': [1, 2, 4]\n",
    "}\n",
    "\n",
    "clf = RandomForestClassifier()\n",
    "grid_search = GridSearchCV(clf, param_grid, cv=5, scoring='accuracy')\n",
    "grid_search.fit(X_train, y_train)\n",
    "\n",
    "print(\"Mejores parámetros encontrados: \", grid_search.best_params_)\n",
    "print(\"Mejor puntuación en la validación cruzada: \", grid_search.best_score_)\n"
   ]
  },
  {
   "cell_type": "code",
   "execution_count": 22,
   "id": "90c7234c",
   "metadata": {},
   "outputs": [],
   "source": [
    "def random_forest(df, target, leaf=None, split=None, max_depth=None, n_estimators=None):\n",
    "\n",
    "    model = RandomForestClassifier(min_samples_leaf=leaf, \n",
    "                                   min_samples_split=split, \n",
    "                                   max_depth=max_depth, \n",
    "                                   n_estimators=n_estimators)\n",
    "    \n",
    "   # X_train = X_train.toarray()\n",
    "    #X_test = X_test.toarray()\n",
    "\n",
    "    model.fit(X_train, y_train)\n",
    "    filename = 'model.pkl'\n",
    "    with open(filename, 'wb') as file:\n",
    "        pickle.dump(model, file)\n",
    "    yhat = model.predict(X_test)\n",
    "    \n",
    "    print(\"Jaccard Index:\", jaccard_score(y_test, yhat, average = \"macro\"))\n",
    "    print(\"Accuracy:\"     , accuracy_score(y_test, yhat))\n",
    "    print(\"Precisión:\"    , precision_score(y_test, yhat, average = \"macro\"))\n",
    "    print(\"Sensibilidad:\" , recall_score(y_test, yhat, average = \"macro\"))\n",
    "    print(\"F1-score:\"     , f1_score(y_test, yhat, average = \"macro\"))\n",
    "    print(\"ROC AUC:\"      , roc_auc_score(y_test, yhat)) \n",
    "    print(\"Accuracy:\", accuracy_score(y_test, yhat))\n",
    "    print(\"Classification Report:\", classification_report(y_test, yhat))\n"
   ]
  },
  {
   "cell_type": "code",
   "execution_count": 23,
   "id": "d180c9b0",
   "metadata": {},
   "outputs": [
    {
     "name": "stdout",
     "output_type": "stream",
     "text": [
      "Jaccard Index: 0.977040145254543\n",
      "Accuracy: 0.9883868626383596\n",
      "Precisión: 0.9884186208240916\n",
      "Sensibilidad: 0.9883923754815108\n",
      "F1-score: 0.9883867521311237\n",
      "ROC AUC: 0.9883923754815107\n",
      "Accuracy: 0.9883868626383596\n",
      "Classification Report:               precision    recall  f1-score   support\n",
      "\n",
      "           0       0.98      0.99      0.99      2752\n",
      "           1       0.99      0.98      0.99      2759\n",
      "\n",
      "    accuracy                           0.99      5511\n",
      "   macro avg       0.99      0.99      0.99      5511\n",
      "weighted avg       0.99      0.99      0.99      5511\n",
      "\n"
     ]
    }
   ],
   "source": [
    "random_forest(df, \"spam\", leaf = 1 , split = 2, max_depth = None, n_estimators = 500)"
   ]
  },
  {
   "cell_type": "code",
   "execution_count": null,
   "id": "dae38f6d",
   "metadata": {},
   "outputs": [],
   "source": []
  }
 ],
 "metadata": {
  "kernelspec": {
   "display_name": "Python 3 (ipykernel)",
   "language": "python",
   "name": "python3"
  },
  "language_info": {
   "codemirror_mode": {
    "name": "ipython",
    "version": 3
   },
   "file_extension": ".py",
   "mimetype": "text/x-python",
   "name": "python",
   "nbconvert_exporter": "python",
   "pygments_lexer": "ipython3",
   "version": "3.9.13"
  }
 },
 "nbformat": 4,
 "nbformat_minor": 5
}
